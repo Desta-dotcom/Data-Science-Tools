{
  "metadata": {
    "language_info": {
      "name": ""
    },
    "kernelspec": {
      "name": "python",
      "display_name": "Python (Pyodide)",
      "language": "python"
    }
  },
  "nbformat_minor": 4,
  "nbformat": 4,
  "cells": [
    {
      "cell_type": "markdown",
      "source": "# Create markdown cell with the title of the notebook\n# H1: Data Science Tools and Ecosystem",
      "metadata": {}
    },
    {
      "cell_type": "markdown",
      "source": "# Create a markdown cell for an introduction\n# In notebook, Datascience Toold and Ecosystem are summarized.",
      "metadata": {}
    },
    {
      "cell_type": "markdown",
      "source": "**Objectives**\n- Python\n- R\n- SQL\n- Java\n- Scala",
      "metadata": {}
    },
    {
      "cell_type": "markdown",
      "source": "# Create a markdown cell to list data science languages\n# Some of the popular languages that Data Scientists use are:\n1. Python\n2. R\n3. Julia\n4. Scala\n",
      "metadata": {}
    },
    {
      "cell_type": "markdown",
      "source": "# Create a markdown cell to list data science libraries\n# Some of the commonly used libraries used by Data Scientist include:\n1. Panda\n2. Matplotlib\n3. Sickit-learn\n4. Keras",
      "metadata": {}
    },
    {
      "cell_type": "markdown",
      "source": "# Create a markdown cell with the table of Data Science tools\n| Data Science Tools |\n| ------------------ |\n| Jupyter |\n| RStudio |\n| Spyder |",
      "metadata": {}
    },
    {
      "cell_type": "markdown",
      "source": "# Create a markdown cell introducing arithmetic expression examples\n### H3: Below are a few examples of evaluating arithmetic expressions in python\n12 + 4\n12 - 4\n12 * 4\n12 / 4",
      "metadata": {}
    },
    {
      "cell_type": "code",
      "source": "# Create a code cell to multiply and add numbers\n# This is a simple arithmetic expression to multiply then add integers\n(3*4)+5\n\n",
      "metadata": {
        "trusted": true
      },
      "execution_count": null,
      "outputs": []
    },
    {
      "cell_type": "code",
      "source": "",
      "metadata": {},
      "execution_count": null,
      "outputs": []
    },
    {
      "cell_type": "code",
      "source": "# Create a code to convert minutes in to hours\n# This will convert 200 minutes to hours by dividing by 60\n200/60\n",
      "metadata": {
        "trusted": true
      },
      "execution_count": null,
      "outputs": []
    },
    {
      "cell_type": "code",
      "source": "",
      "metadata": {},
      "execution_count": null,
      "outputs": []
    },
    {
      "cell_type": "markdown",
      "source": "# Create a markdown cell to indicate the Author's name\n## H2: Authour\n# Tesfalidet Desta",
      "metadata": {}
    }
  ]
}